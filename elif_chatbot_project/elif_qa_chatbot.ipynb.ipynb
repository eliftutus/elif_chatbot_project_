{
  "nbformat": 4,
  "nbformat_minor": 0,
  "metadata": {
    "colab": {
      "provenance": []
    },
    "kernelspec": {
      "name": "python3",
      "display_name": "Python 3"
    },
    "language_info": {
      "name": "python"
    }
  },
  "cells": [
    {
      "cell_type": "code",
      "source": [
        "import pandas as pd\n",
        "from difflib import get_close_matches\n",
        "\n",
        "# Soru-cevap veri seti\n",
        "data = {\n",
        "    \"soru\": [\n",
        "        \"Python nedir?\",\n",
        "        \"Yapay zeka nedir?\",\n",
        "        \"Makine öğrenmesi nedir?\",\n",
        "        \"Veri bilimi nedir?\",\n",
        "        \"Chatbot nedir?\"\n",
        "    ],\n",
        "    \"cevap\": [\n",
        "        \"Python, yüksek seviyeli, yorumlanan bir programlama dilidir.\",\n",
        "        \"Yapay zeka, bilgisayarların insan benzeri düşünme yetenekleri kazanmasını sağlar.\",\n",
        "        \"Makine öğrenmesi, veriden öğrenen algoritmaların geliştirilmesidir.\",\n",
        "        \"Veri bilimi, veriden anlamlı bilgiler çıkarmayı amaçlayan bir alandır.\",\n",
        "        \"Chatbot, insanlarla metin veya ses yoluyla iletişim kurabilen yazılımdır.\"\n",
        "    ]\n",
        "}\n",
        "\n",
        "df = pd.DataFrame(data)\n",
        "\n",
        "# Cevaplama fonksiyonu\n",
        "def cevapla(soru):\n",
        "    eslesen = get_close_matches(soru, df[\"soru\"], n=1, cutoff=0.4)\n",
        "    if eslesen:\n",
        "        return df.loc[df[\"soru\"] == eslesen[0], \"cevap\"].values[0]\n",
        "    else:\n",
        "        return \"Üzgünüm, bu soruyu anlayamadım.\"\n",
        "\n",
        "# Kullanıcı ile etkileşim\n",
        "print(\"Chatbot: Merhaba! Sorunu yaz veya çıkmak için 'çık' yaz 😊\")\n",
        "while True:\n",
        "    s = input(\"Sen: \")\n",
        "    if s.strip().lower() in [\"çık\", \"exit\", \"quit\"]:\n",
        "        print(\"Chatbot: Görüşürüz 👋\")\n",
        "        break\n",
        "    yanit = cevapla(s)\n",
        "    print(\"Chatbot:\", yanit)\n"
      ],
      "metadata": {
        "colab": {
          "base_uri": "https://localhost:8080/"
        },
        "id": "FAXzRVWDc-qW",
        "outputId": "facf092d-ffe4-476e-8cb5-db7326cb048d"
      },
      "execution_count": null,
      "outputs": [
        {
          "output_type": "stream",
          "name": "stdout",
          "text": [
            "Chatbot: Merhaba! Sorunu yaz veya çıkmak için 'çık' yaz 😊\n",
            "Sen: Python nedir?\n",
            "Chatbot: Python, yüksek seviyeli, yorumlanan bir programlama dilidir.\n"
          ]
        }
      ]
    }
  ]
}